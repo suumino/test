{
  "nbformat": 4,
  "nbformat_minor": 0,
  "metadata": {
    "colab": {
      "name": "Colaboratory에 오신 것을 환영합니다",
      "provenance": [],
      "collapsed_sections": [],
      "include_colab_link": true
    },
    "kernelspec": {
      "display_name": "Python 3",
      "name": "python3"
    }
  },
  "cells": [
    {
      "cell_type": "markdown",
      "metadata": {
        "id": "view-in-github",
        "colab_type": "text"
      },
      "source": [
        "<a href=\"https://colab.research.google.com/github/suumino/test/blob/main/test11.ipynb\" target=\"_parent\"><img src=\"https://colab.research.google.com/assets/colab-badge.svg\" alt=\"Open In Colab\"/></a>"
      ]
    },
    {
      "cell_type": "code",
      "metadata": {
        "id": "lMdedqIOEixb",
        "outputId": "cc274314-ce7d-4ddf-95d1-d0e9418a02c5",
        "colab": {
          "base_uri": "https://localhost:8080/"
        }
      },
      "source": [
        "class __init__():         # 클라스 생성\n",
        "  def ccc(n):             # 함수 생성\n",
        "    c = '1'               # 처음엔 1\n",
        "    if n == 1:            # 만약 1회 반복이면\n",
        "      print(\"This is the base case\") # n이 1일때 이거 출력\n",
        "      return c            # 그대로 반환\n",
        "    for i in range(1, n): # n회 반복 중에서\n",
        "      a = bbb(abs)        # a 는 함수 bbb를 넣고 돌린것\n",
        "    try : 4/0             # 억지로 오류 만듦\n",
        "    except :              # 오류가 나면 \n",
        "      return a            # a 반환\n",
        "\n",
        "def bbb(n):               # 함수 생성\n",
        "  for i in n:             # n 안에서\n",
        "    d = max([int(i)])     # d는 n에서 제일 큰 값\n",
        "  for i in range(1,d+1):  # 제일 큰 횟수만큼 반복\n",
        "    e = str(i)+str(str(n).count(str(i))) # 수와 갯수 저장\n",
        "  return ''.join(e)       # 반환\n",
        "\n",
        "\n",
        "n = int(input(\"Input: \"))        # 입력 받음\n",
        "print(\"Output :\", solution(n))   # 출력"
      ],
      "execution_count": 49,
      "outputs": [
        {
          "output_type": "stream",
          "text": [
            "Input: 4\n",
            "Output : 1121\n"
          ],
          "name": "stdout"
        }
      ]
    },
    {
      "cell_type": "code",
      "metadata": {
        "id": "ftwTUtmuEizq"
      },
      "source": [
        ""
      ],
      "execution_count": null,
      "outputs": []
    }
  ]
}