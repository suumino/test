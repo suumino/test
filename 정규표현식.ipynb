{
  "nbformat": 4,
  "nbformat_minor": 0,
  "metadata": {
    "colab": {
      "name": "Colaboratory에 오신 것을 환영합니다",
      "provenance": [],
      "collapsed_sections": [],
      "include_colab_link": true
    },
    "kernelspec": {
      "display_name": "Python 3",
      "name": "python3"
    }
  },
  "cells": [
    {
      "cell_type": "markdown",
      "metadata": {
        "id": "view-in-github",
        "colab_type": "text"
      },
      "source": [
        "<a href=\"https://colab.research.google.com/github/suumino/test/blob/main/%EC%A0%95%EA%B7%9C%ED%91%9C%ED%98%84%EC%8B%9D.ipynb\" target=\"_parent\"><img src=\"https://colab.research.google.com/assets/colab-badge.svg\" alt=\"Open In Colab\"/></a>"
      ]
    },
    {
      "cell_type": "code",
      "metadata": {
        "id": "kLY3ZGIjrU11",
        "outputId": "67fe0fce-81e1-4fe4-c5d5-80ae10d04a10",
        "colab": {
          "base_uri": "https://localhost:8080/"
        }
      },
      "source": [
        "# 정규표현식\n",
        "\n",
        "import re\n",
        "\n",
        "alp = re.compile('[a-zA-Z]')   # 알파벳 모두\n",
        "num = re.compile('[0-9]')       # 숫자 모두\n",
        "\n",
        "x = ''\n",
        "y = ''\n",
        "z = ''\n",
        "a = input('input: ')\n",
        "for i in range(len(a)):\n",
        "  if alp.match(a[i]):                 # alp의 값이 a 에 있니?\n",
        "    x +=  a[i]\n",
        "  elif num.match(a[i]):\n",
        "    y += a[i]\n",
        "  else: \n",
        "    z += a[i]\n",
        "print('output: %s\\n\\t%s\\n\\t%s' %(x, y, z))"
      ],
      "execution_count": 11,
      "outputs": [
        {
          "output_type": "stream",
          "text": [
            "input: Def@3$1@#\n",
            "output: Def\n",
            "\t31\n",
            "\t@$@#\n"
          ],
          "name": "stdout"
        }
      ]
    },
    {
      "cell_type": "code",
      "metadata": {
        "id": "3mJbLZgnsG-B"
      },
      "source": [
        ""
      ],
      "execution_count": null,
      "outputs": []
    }
  ]
}