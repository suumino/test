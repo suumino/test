{
  "nbformat": 4,
  "nbformat_minor": 0,
  "metadata": {
    "colab": {
      "name": "Colaboratory에 오신 것을 환영합니다",
      "provenance": [],
      "collapsed_sections": [],
      "include_colab_link": true
    },
    "kernelspec": {
      "display_name": "Python 3",
      "name": "python3"
    }
  },
  "cells": [
    {
      "cell_type": "markdown",
      "metadata": {
        "id": "view-in-github",
        "colab_type": "text"
      },
      "source": [
        "<a href=\"https://colab.research.google.com/github/suumino/test/blob/main/test08.ipynb\" target=\"_parent\"><img src=\"https://colab.research.google.com/assets/colab-badge.svg\" alt=\"Open In Colab\"/></a>"
      ]
    },
    {
      "cell_type": "code",
      "metadata": {
        "id": "e-Y6DNMOlnT0"
      },
      "source": [
        "4. Why there are no pointers in Java?\n",
        "포인터의 잘못된 사용으로 인한 오작동을 줄이기 위해 설계 시 배제되었다.\n",
        "자바는 메모리를 프로그램에서 직접 관리하기 때문에 필요없는 데이터는 없애는 GC가 존재하고, \n",
        "GC값이 객체를 정리하며 객체의 위치(주소)를 바꿀 수 있기 때문에 포인터로 직접 객체 주소를 관리하면 \n",
        "많은 오류가 발생할 수 있다.\n",
        "자바에서는 그 객체가 메모리상 어디에 존재하는지 주소(포인터)는 알 수 없지만\n",
        "객체를 찾아갈 수 있는 방법(참조)는 알 수 있다."
      ],
      "execution_count": null,
      "outputs": []
    },
    {
      "cell_type": "code",
      "metadata": {
        "id": "ESubdAcHloaU"
      },
      "source": [
        "5. Is it possible to use this() and super() both in same constructor?\n",
        "\n",
        "함께 사용할 수 없다. this와 super는 { 바로 다음에만 쓸 수 있기 때문에 같이 쓸 수 없다.\n",
        "주로 부모 멤버와 자신의 멤버를 구분할 때 super를 쓰고 그렇지 않을때 this를 쓴다.\n",
        "두 개를 같이 쓰면 super가 중복되어서 같이 쓰지 않는다."
      ],
      "execution_count": null,
      "outputs": []
    },
    {
      "cell_type": "code",
      "metadata": {
        "id": "P4TO8KJalo0K",
        "outputId": "9c801041-bdfc-4071-ff2c-210bf897cfa7",
        "colab": {
          "base_uri": "https://localhost:8080/"
        }
      },
      "source": [
        "class __init__():\n",
        "  def num(n):                         # 함수 생성\n",
        "    for i in range(len(n)):           # 리스트 길이동안\n",
        "      n[i] = ''.join(reversed(n[i]))  # 리스트 요소들을 전부 뒤집음\n",
        "    a = sorted(n)                     # 정렬함\n",
        "    for i in range(len(a)):           # 리스트 요소들\n",
        "      a[i] = ''.join(reversed(a[i]))  # 다시 전부 뒤집음\n",
        "    return a                          # 반환\n",
        "\n",
        "\n",
        "n = [\"a1\", \"a2\", \"a3\", \"an\", \"b1\", \"b2\", \"b3\", \"bn\"]  # 이게 리스트 \n",
        "\n",
        "try :                        # 억지로 오류 생성\n",
        "  4 / 0                      # 제로오류\n",
        "except ZeroDivisionError :   # 오류가 생성되면\n",
        "  print(num(n))              # 출력"
      ],
      "execution_count": 41,
      "outputs": [
        {
          "output_type": "stream",
          "text": [
            "['a1', 'b1', 'a2', 'b2', 'a3', 'b3', 'an', 'bn']\n"
          ],
          "name": "stdout"
        }
      ]
    },
    {
      "cell_type": "code",
      "metadata": {
        "id": "_UT4m_hOplpN",
        "outputId": "62fed728-376b-41a4-a255-27eca2578872",
        "colab": {
          "base_uri": "https://localhost:8080/"
        }
      },
      "source": [
        "def ddd(n):                                    # 함수 생성\n",
        "  for i in range(len(n)):                      # 길이 동안\n",
        "    n.append(n[0][1]+n[0][0])                  # 함수 추가\n",
        "    n.pop(0)                                   # 내보냄\n",
        "  n.sort()                                     # 정렬\n",
        "  for i in range(len(n)):                      # 길이동안\n",
        "    n.append(n[0][1] + n[0][0])                # 함수 추가\n",
        "    n.pop(0)                                   # 내보냄\n",
        "  return n                                     # 반환\n",
        "\n",
        "\n",
        "n = [\"a1\",\"a2\",\"a3\",\"an\",\"b1\",\"b2\", \"b3\",\"bn\"]  # 리스트\n",
        "print(ddd(n))                                   # 출력"
      ],
      "execution_count": 40,
      "outputs": [
        {
          "output_type": "stream",
          "text": [
            "['a1', 'b1', 'a2', 'b2', 'a3', 'b3', 'an', 'bn']\n"
          ],
          "name": "stdout"
        }
      ]
    }
  ]
}