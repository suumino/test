{
  "nbformat": 4,
  "nbformat_minor": 0,
  "metadata": {
    "colab": {
      "name": "Colaboratory에 오신 것을 환영합니다",
      "provenance": [],
      "collapsed_sections": [],
      "include_colab_link": true
    },
    "kernelspec": {
      "display_name": "Python 3",
      "name": "python3"
    }
  },
  "cells": [
    {
      "cell_type": "markdown",
      "metadata": {
        "id": "view-in-github",
        "colab_type": "text"
      },
      "source": [
        "<a href=\"https://colab.research.google.com/github/suumino/test/blob/main/test21.ipynb\" target=\"_parent\"><img src=\"https://colab.research.google.com/assets/colab-badge.svg\" alt=\"Open In Colab\"/></a>"
      ]
    },
    {
      "cell_type": "code",
      "metadata": {
        "id": "I9_rkCYmhllU",
        "outputId": "81913b1b-6514-4ace-e98a-47dfffbf89bd",
        "colab": {
          "base_uri": "https://localhost:8080/"
        }
      },
      "source": [
        "def aaa(a, n):                       # 함수 생성\n",
        "  i = 0                              # 인덱스 생성\n",
        "  if n[i] + n[i+2] > n[-1] + n[-3]:  # 왼쪽 끝과 오른쪽 끝 두개 더했을 때\n",
        "    a += n[i]                        # 더 큰쪽 선택\n",
        "    n.pop(i)                         # 선택한 값은 리스트에서 빼줌\n",
        "  elif n[i] + n[i+1] < n[-1] + n[-3]:# 오른쪽 두개가 더 크다면\n",
        "    a += n[-1]                       # 그거 선택\n",
        "    n.pop(-1)                        # 리스트에서 빼줌\n",
        "  else:                              # 만약 둘이 같다면\n",
        "    if n[i] > n[-1]:                 # 그냥 양쪽 끝만 비교해서\n",
        "      a += n[i]                      # 큰거 선택\n",
        "      n.pop(i)                       # 선택한거 빼줌\n",
        "    else:                            # 역시\n",
        "      a += n[-1]                     # 큰거 선택\n",
        "      n.pop(-1)                      # 선택한거 리스트에서 빼줌\n",
        "class nnn:                  # 여기가 시작 : 클래스 생성\n",
        "  def ccc(self, n):         # 함수 생성\n",
        "    a = 0                   # 플레이어 1\n",
        "    b = 0                   # 플레이어 2\n",
        "    while len(n) > 3:       # 리스트의 길이가 3보다 클 때에는\n",
        "      aaa(a, n)             # aaa 함수에 넣는다\n",
        "      aaa(b, n)             # b도 aaa 함수에 넣는다.\n",
        "\n",
        "    if len(n) == 3:         # 리스트의 길이가 3이면\n",
        "      if n[0] > n[2]:       # 양 끝중에 젤 큰게\n",
        "        a += n[0]           # 플레이어 1\n",
        "        if n[1] > n[2]:     # 남은거중에\n",
        "          a += n[2]         # 작은게 플레이어 1\n",
        "          b += n[1]         # 큰게 플레이어 2\n",
        "        else:               # 남은거중에\n",
        "          a += [1]          # 작은게 플레이어 1\n",
        "          b += n[2]         # 큰게 플레이어 2\n",
        "      elif n[2] > n[0]:     # 양 끝중에 더 큰게\n",
        "        a += n[2]           # 플레이어 1\n",
        "        if n[1] > n[0]:     # 더 큰게\n",
        "          a += n[0]         # 작은거는 플레이어 1\n",
        "          b += n[1]         # 큰건 플레이어 2\n",
        "        else:               # 또\n",
        "          a += [1]          # 작은게 플레이어 1\n",
        "          b += n[0]         # 큰게 플레이어 2\n",
        "      \n",
        "    elif len(n) == 2:       # 리스트의 길이가 2이면\n",
        "      if n[0] > n[1]:       # 더 큰 수를\n",
        "        a += n[0]           # 플레이어 1이 선택할것\n",
        "        b += n[1]           # 작은건 플레이어 2\n",
        "      else :                # 역시\n",
        "        a += n[1]           # 큰게 플레이어 1\n",
        "        b += n[0]           # 작은게 플레이어 2\n",
        "\n",
        "    elif len(n) == 1:       # 리스트의 길이가 1이면\n",
        "      a += n[0]             # 플레이어 1\n",
        "\n",
        "    if a >= b: return True  # 플레이어 1이 높으면 True 반환\n",
        "    else : return False     # 플레이어 2가 높으면 False 반환\n",
        "\n",
        "nnn = nnn()                 # 객체 생성\n",
        "n = [1, 5, 2]               # 리스트\n",
        "m = [1, 5, 233, 7]          # 리스트\n",
        "print(nnn.ccc(n))           # 프린트\n",
        "print(nnn.ccc(m))           # 프린트"
      ],
      "execution_count": 1,
      "outputs": [
        {
          "output_type": "stream",
          "text": [
            "False\n",
            "True\n"
          ],
          "name": "stdout"
        }
      ]
    },
    {
      "cell_type": "code",
      "metadata": {
        "id": "ssJlad-KjhpN"
      },
      "source": [
        ""
      ],
      "execution_count": null,
      "outputs": []
    }
  ]
}