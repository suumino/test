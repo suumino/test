{
  "nbformat": 4,
  "nbformat_minor": 0,
  "metadata": {
    "colab": {
      "name": "Colaboratory에 오신 것을 환영합니다",
      "provenance": [],
      "collapsed_sections": [],
      "include_colab_link": true
    },
    "kernelspec": {
      "display_name": "Python 3",
      "name": "python3"
    }
  },
  "cells": [
    {
      "cell_type": "markdown",
      "metadata": {
        "id": "view-in-github",
        "colab_type": "text"
      },
      "source": [
        "<a href=\"https://colab.research.google.com/github/suumino/test/blob/main/test09.ipynb\" target=\"_parent\"><img src=\"https://colab.research.google.com/assets/colab-badge.svg\" alt=\"Open In Colab\"/></a>"
      ]
    },
    {
      "cell_type": "code",
      "metadata": {
        "id": "OYzNvgLIIo1D"
      },
      "source": [
        "메서드를 재정의하려면 클래스의 인스턴스가 필요하고, 정적 메서드는 클래스의 인스턴스와 연결되어있지 않다.\n",
        "메소드의 재정의는 런타임에서 동적 바인딩을 기반으로 하고, 정적 메소드는 컴파일 타임에 정적 바인딩을 사용하여ㅏ 결\n",
        "합되기 때문에 정적 메소드를 재정의할 수 없다."
      ],
      "execution_count": null,
      "outputs": []
    },
    {
      "cell_type": "code",
      "metadata": {
        "id": "Mlms9F9HMWv0"
      },
      "source": [
        "Static method는 클래스의 인스턴스 없이 호출이 가능하다. 그리고 유틸리티 함수를 만드는 데 유용하게 사용된다.\n",
        "정적 메서드를 호출하기 위해 클래스의 개체를 만들 필요가 없다. \n",
        "따라서 호출 할 객체를 생성하지 않는 편리함을 제공한다."
      ],
      "execution_count": null,
      "outputs": []
    },
    {
      "cell_type": "code",
      "metadata": {
        "id": "rEeNM5ljIo3I",
        "outputId": "00e9f45e-3de8-49fa-c8e6-c7b6623c24ea",
        "colab": {
          "base_uri": "https://localhost:8080/"
        }
      },
      "source": [
        "\n",
        "class __init__():                # 클래스 생성\n",
        "  def ccc(m):                  # 함수 생성\n",
        "    l = 0                      # ( 이거 세는 변수\n",
        "    r = 0                      # ) 이거 세는 변수\n",
        "    for i in range(len(m)):    # 입력 받은 문장 길이동안\n",
        "      if m[i] == \"(\": l += 1   # 만약 그 문자가 ( 이라면 l 변수 1 증가\n",
        "      elif m[i] == \")\": r += 1 # 만약 그 문자가 ) 이라면 r 변수 1 증가\n",
        "    if l == r: print('output : Yes')    # 만약 l과 r이 같다면 yes 출력\n",
        "    else : print('output : No')         # 다르다면 no 출력\n",
        "    try : 4/0                           # 일부러 오류 발생시킴\n",
        "    except : print(\"'(' : {}, ')' : {}\".format(l, r))  # 개수 출력\n",
        "\n",
        "m = input(\"input : \")        # 문장 입력받음\n",
        "ccc(m)                       # 함수 호출"
      ],
      "execution_count": 27,
      "outputs": [
        {
          "output_type": "stream",
          "text": [
            "input : ()\n",
            "output : Yes\n",
            "'(' : 1, ')' : 1\n"
          ],
          "name": "stdout"
        }
      ]
    },
    {
      "cell_type": "code",
      "metadata": {
        "id": "CxvrhhI7Io5v"
      },
      "source": [
        "def math(e):\n",
        "  if e.count('(') != e.count(')'):\n",
        "    return False\n",
        "  j = []\n",
        "  for i in e:\n",
        "    if i == '(':\n",
        "      j.append('(')\n",
        "    if i == ')':\n",
        "      if len(j) ==0:\n",
        "        return False\n",
        "      j.pop()\n",
        "  return True\n",
        "n = input()\n",
        "if math(n) == True:\n",
        "  print(\"YES\")\n",
        "else:\n",
        "  print(\"NO\")"
      ],
      "execution_count": null,
      "outputs": []
    },
    {
      "cell_type": "code",
      "metadata": {
        "id": "s6SKqlcmOllp"
      },
      "source": [
        "# ALGORITHM HOMEWORK\n",
        "class __init__():\n",
        "  def ccc(m):                  # 함수 생성\n",
        "    L = ['(', '{', '[', '<']\n",
        "    R = [')', '}', ']', '>']\n",
        "    l = 0                      # ( 이거 세는 변수\n",
        "    r = 0                      # ) 이거 세는 변수\n",
        "    for i in range(len(m)):    # 입력 받은 문장 길이동안\n",
        "      if m[i] in L : l += 1   # 만약 그 문자가 ( 이라면 l 변수 1 증가\n",
        "      elif m[i] in R: r += 1 # 만약 그 문자가 ) 이라면 r 변수 1 증가\n",
        "    if l == r: print('output : Yes')    # 만약 l과 r이 같다면 yes 출력\n",
        "    else : print('output : No')         # 다르다면 no 출력\n",
        "\n",
        "    if '(' in m: \n",
        "      print(\"'(' : {}, ')' : {}\".format(l, r))  # 개수 출력\n",
        "    elif '{' in m: \n",
        "      print(\"'{' : {}, '}' : {}\".format(l, r))  # 개수 출력\n",
        "    elif '[' in m: \n",
        "      print(\"'[' : {}, ']' : {}\".format(l, r))  # 개수 출력\n",
        "    elif '<' in m: \n",
        "      print(\"'<' : {}, '>' : {}\".format(l, r))  # 개수 출력\n",
        "\n",
        "\n",
        "m = []\n",
        "n = input(\"input : \")        # 문장 입력받음\n",
        "\n",
        "for i in range(len(n)):\n",
        "  if n[i] == '(' or n[i] == ')':\n",
        "    m.append(n[i])\n",
        "\n",
        "for i in range(len(n)):\n",
        "  if n[i] == '{' or n[i] == '}':\n",
        "    m.append(n[i])\n",
        "\n",
        "for i in range(len(n)):\n",
        "  if n[i] == '[' or n[i] == ']':\n",
        "    m.append(n[i])\n",
        "\n",
        "for i in range(len(n)):\n",
        "  if n[i] == '<' or n[i] == '>':\n",
        "    m.append(n[i])\n",
        "\n",
        "print(m)\n",
        "\n",
        "  \n",
        "\n",
        "\n",
        "ccc(m)                       # 함수 호출"
      ],
      "execution_count": null,
      "outputs": []
    },
    {
      "cell_type": "code",
      "metadata": {
        "id": "FzTSP6MQR4IS"
      },
      "source": [
        ""
      ],
      "execution_count": 22,
      "outputs": []
    }
  ]
}