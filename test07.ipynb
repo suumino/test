{
  "nbformat": 4,
  "nbformat_minor": 0,
  "metadata": {
    "colab": {
      "name": "Colaboratory에 오신 것을 환영합니다",
      "provenance": [],
      "collapsed_sections": [],
      "include_colab_link": true
    },
    "kernelspec": {
      "display_name": "Python 3",
      "name": "python3"
    }
  },
  "cells": [
    {
      "cell_type": "markdown",
      "metadata": {
        "id": "view-in-github",
        "colab_type": "text"
      },
      "source": [
        "<a href=\"https://colab.research.google.com/github/suumino/test/blob/main/test07.ipynb\" target=\"_parent\"><img src=\"https://colab.research.google.com/assets/colab-badge.svg\" alt=\"Open In Colab\"/></a>"
      ]
    },
    {
      "cell_type": "code",
      "metadata": {
        "id": "dMqVgwlmGFHN",
        "outputId": "a8c34560-a1c7-4e7b-bfa7-6335887fcad5",
        "colab": {
          "base_uri": "https://localhost:8080/"
        }
      },
      "source": [
        "class __init__():                          # 클래스 생성\n",
        "  def num(n):                              # 함수 생성\n",
        "    try:\n",
        "      if n % 10 == 1 and n % 100 != 11:    # 이 함수의 끝자리가 1이고 11이 아니면\n",
        "        print('%dst' %n)                   # st 붙이기\n",
        "      elif n % 10 == 2 and n % 100 != 12:  # 이 함수의 끝자리가 2이고 12가 아니면\n",
        "        print('%dnd' %n)                   # nd 붙이기\n",
        "      elif n % 10 == 3 and n % 100 != 13:  # 이 함수의 끝자리가 3이고 13이 아니면\n",
        "        print('%drd' %n)                   # rd 붙이기\n",
        "      else:                                # 다 아니면\n",
        "        print(n+'th')                      # 일부러 오류 생성\n",
        "    except TypeError:                      # 오류가 나오면\n",
        "      print('%dth' %n)                     # 오류 아니게 출력\n",
        "\n",
        "n = abs(int(input()))                      # 수 받기\n",
        "num(n)                                     # 함수 호출"
      ],
      "execution_count": 29,
      "outputs": [
        {
          "output_type": "stream",
          "text": [
            "111\n",
            "111th\n"
          ],
          "name": "stdout"
        }
      ]
    },
    {
      "cell_type": "code",
      "metadata": {
        "id": "-SYKd7A6LFtw"
      },
      "source": [
        ""
      ],
      "execution_count": null,
      "outputs": []
    }
  ]
}