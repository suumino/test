{
  "nbformat": 4,
  "nbformat_minor": 0,
  "metadata": {
    "colab": {
      "name": "Colaboratory에 오신 것을 환영합니다",
      "provenance": [],
      "collapsed_sections": [],
      "include_colab_link": true
    },
    "kernelspec": {
      "display_name": "Python 3",
      "name": "python3"
    }
  },
  "cells": [
    {
      "cell_type": "markdown",
      "metadata": {
        "id": "view-in-github",
        "colab_type": "text"
      },
      "source": [
        "<a href=\"https://colab.research.google.com/github/suumino/test/blob/main/test14.ipynb\" target=\"_parent\"><img src=\"https://colab.research.google.com/assets/colab-badge.svg\" alt=\"Open In Colab\"/></a>"
      ]
    },
    {
      "cell_type": "code",
      "metadata": {
        "id": "Bj8T_gH8ZCGg"
      },
      "source": [
        "스레드는 자바의 프로세스를 이루는 하나의 프로세스에서 독립적으로 실행되는 하나의 작업이다. main함수 역시 스레드이다."
      ],
      "execution_count": null,
      "outputs": []
    },
    {
      "cell_type": "code",
      "metadata": {
        "id": "9b8VPzrwXBH7"
      },
      "source": [
        "스레드를 데몬스레드로 만들기 위해서 주 스레드가 데몬 스레드가 될 스레드의 setDaemon(true)를 호출해주면 된다.\n",
        "\n",
        "public static void main(String[] args) {\n",
        "AutoSave Thread thread = new AutoSaveTread();\n",
        "thread.setDaemon(true);\n",
        "thread.start();\n",
        "}"
      ],
      "execution_count": null,
      "outputs": []
    },
    {
      "cell_type": "code",
      "metadata": {
        "id": "1gcBTjCJXBKO",
        "outputId": "dd20e8e0-d5d9-4135-a208-08cd54f0a2e3",
        "colab": {
          "base_uri": "https://localhost:8080/"
        }
      },
      "source": [
        "class __init__():                  # 클래스 생성\n",
        "  def ccc(n):                      # 함수 생성\n",
        "    c = 0                          # 몇번째인지 셀거\n",
        "    i = 0                          # 이 숫자가 어글리넘버인지 알아볼거\n",
        "    while c < n:                   # c가 입력한 수보다 작을때동안 반복\n",
        "      a = i                        # 일단 i를 a에 저장\n",
        "      while (a > 1):               # a를 나누면서 알아볼거\n",
        "        if a % 2 == 0: a = a / 2   # 2로 나눠지면 2로 나눠\n",
        "        elif a % 3 == 0: a = a / 3 # 3으로 나눠지면 3으로 나눠\n",
        "        elif a % 5 == 0: a = a / 5 # 5로 나눠지면 5로 나눠\n",
        "        else : break               # 안나눠지면 반복 끝내고 i에 1 추가해서 다음으로 넘어감\n",
        "      if a == 1: c += 1            # 반복이 끝났을 때 a가 1이라면 어글리숫자니까 c에 1 더해\n",
        "      if c ==n: return i           # 만약 c가 n이면 그 숫자가 뭐인지 반환(i)\n",
        "      i += 1                       # i에 1 더해서 반복 다시함\n",
        "\n",
        "try:                             # 억지로 오류 만들거\n",
        "  n=0                            # n = 0\n",
        "  4/n                            # 오류 생성\n",
        "except:                          # 오류가 나면\n",
        "  while n > 1690 or n < 1: n = int(input(\"Input : n=\")) # 0<=n<=1690 사이의수 입력받음\n",
        "\n",
        "print(\"Output :\", ccc(n))        # 함수 호출해서 출력"
      ],
      "execution_count": 26,
      "outputs": [
        {
          "output_type": "stream",
          "text": [
            "Input : n=-1\n",
            "Input : n=1691\n",
            "Input : n=10\n",
            "Output : 12\n"
          ],
          "name": "stdout"
        }
      ]
    },
    {
      "cell_type": "code",
      "metadata": {
        "id": "Nu8mzOttXBMs"
      },
      "source": [
        ""
      ],
      "execution_count": null,
      "outputs": []
    },
    {
      "cell_type": "code",
      "metadata": {
        "id": "yqKVqJ3rXBO1"
      },
      "source": [
        ""
      ],
      "execution_count": null,
      "outputs": []
    }
  ]
}