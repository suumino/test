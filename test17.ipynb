{
  "nbformat": 4,
  "nbformat_minor": 0,
  "metadata": {
    "colab": {
      "name": "Colaboratory에 오신 것을 환영합니다",
      "provenance": [],
      "collapsed_sections": [],
      "include_colab_link": true
    },
    "kernelspec": {
      "display_name": "Python 3",
      "name": "python3"
    }
  },
  "cells": [
    {
      "cell_type": "markdown",
      "metadata": {
        "id": "view-in-github",
        "colab_type": "text"
      },
      "source": [
        "<a href=\"https://colab.research.google.com/github/suumino/test/blob/main/test17.ipynb\" target=\"_parent\"><img src=\"https://colab.research.google.com/assets/colab-badge.svg\" alt=\"Open In Colab\"/></a>"
      ]
    },
    {
      "cell_type": "code",
      "metadata": {
        "id": "Qd345mMG4Zcg",
        "outputId": "6128f3f7-25dd-43f0-b796-fa5b395d8f2f",
        "colab": {
          "base_uri": "https://localhost:8080/"
        }
      },
      "source": [
        "import itertools                     # 모듈 불러오기\n",
        "class __init__():                    # 클래스생성\n",
        "  def isAdditiveNumber(self, num):   # 함수 생성\n",
        "    n = len(num)                     # 받은것의 길이 저장\n",
        "\n",
        "    for i, j in itertools.combinations(range(1, n), 2):  # 반복문 실행\n",
        "      a, b = num[:i], num[i: j]       # num을 a, b로 나눔 j는 a+b의 길이가 될 것이다.\n",
        "      try:                            # 시도해라\n",
        "        if b != str(int(b)):          # b가 다르면\n",
        "          continue                    # 계속해라\n",
        "      except:                         # 오류가나면\n",
        "        z = 0                         # z=0\n",
        "      try:                            # 시도해라\n",
        "        while j < n:                  # j가 n보다 작을동안\n",
        "          c = str(int(a) + int(b))    # c는 a, b 두개 더한거\n",
        "          if not num.startswith(c, j):# 이게 num으로 한게 아니라면\n",
        "            break                     # 멈춰라\n",
        "          j += len(c)                 # j에 c의 길이를 더해라\n",
        "          a, b = b, c                 # a, b에 b, c를 넣는다\n",
        "        if j != n:                    # 만약 j가 n이랑 같지않다면\n",
        "          return False                # false 반환\n",
        "      except:                         # 오류가나면\n",
        "        z = 1                         # z=1\n",
        "    return True                       # 참 반환\n",
        "\n",
        "num = list(map(int, input('INPUT : ')))  # 수 입력받음\n",
        "isAdditiveNumber(num, num)               # 함수 호출 및 출력"
      ],
      "execution_count": 30,
      "outputs": [
        {
          "output_type": "stream",
          "text": [
            "INPUT : 12121\n"
          ],
          "name": "stdout"
        },
        {
          "output_type": "execute_result",
          "data": {
            "text/plain": [
              "True"
            ]
          },
          "metadata": {
            "tags": []
          },
          "execution_count": 30
        }
      ]
    },
    {
      "cell_type": "code",
      "metadata": {
        "id": "BNIqjAecbgQA"
      },
      "source": [
        ""
      ],
      "execution_count": null,
      "outputs": []
    },
    {
      "cell_type": "code",
      "metadata": {
        "id": "FmzYrt6f4Zev"
      },
      "source": [
        ""
      ],
      "execution_count": null,
      "outputs": []
    },
    {
      "cell_type": "code",
      "metadata": {
        "id": "DahwAoOn4Zhp"
      },
      "source": [
        ""
      ],
      "execution_count": null,
      "outputs": []
    },
    {
      "cell_type": "code",
      "metadata": {
        "id": "uL0E7v8f4ZkJ"
      },
      "source": [
        ""
      ],
      "execution_count": null,
      "outputs": []
    }
  ]
}