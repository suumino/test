{
  "nbformat": 4,
  "nbformat_minor": 0,
  "metadata": {
    "colab": {
      "name": "Colaboratory에 오신 것을 환영합니다",
      "provenance": [],
      "collapsed_sections": [],
      "include_colab_link": true
    },
    "kernelspec": {
      "display_name": "Python 3",
      "name": "python3"
    }
  },
  "cells": [
    {
      "cell_type": "markdown",
      "metadata": {
        "id": "view-in-github",
        "colab_type": "text"
      },
      "source": [
        "<a href=\"https://colab.research.google.com/github/suumino/test/blob/main/test13.ipynb\" target=\"_parent\"><img src=\"https://colab.research.google.com/assets/colab-badge.svg\" alt=\"Open In Colab\"/></a>"
      ]
    },
    {
      "cell_type": "code",
      "metadata": {
        "id": "CGp2NS61LF0a"
      },
      "source": [
        "4. How will you create an empty Map in Java?\n",
        "\n",
        "immutable방법은 myMap = Collections.emptyMap();을 사용하는 것이고\n",
        "any map방법은 myMap = new HashMap(); 을 사용한다.\n"
      ],
      "execution_count": null,
      "outputs": []
    },
    {
      "cell_type": "code",
      "metadata": {
        "id": "0WWwU9w1LFyM"
      },
      "source": [
        "5. Is it possible to call run() method instead of start() on a thread in Java?\n",
        "\n",
        "대신해서 사용하면 다른 결과가 나온다. run()은 메서드들이 순차적으로 실행이 되기 때문에\n",
        "한 메소드가 끝나야 다음 메서드가 실행된다. 하지만 start()는 병행 실행이 되기 때문에 스레드의 병행 처리가 정상적으로 가능하다.\n"
      ],
      "execution_count": null,
      "outputs": []
    },
    {
      "cell_type": "code",
      "metadata": {
        "id": "YOHOh5hgEsfe",
        "outputId": "f10cb970-12e5-4cce-f6e0-07ab535a4eb6",
        "colab": {
          "base_uri": "https://localhost:8080/"
        }
      },
      "source": [
        "class __init__():             # 클라스 생성\n",
        "  def ccc(n, k):              # 함수 생성\n",
        "    if n <= 1: return n*k     # 만약 n이 1보다 작거나 같으면 n*k\n",
        "    if n == 2: return k*k     # 만약 2라면 k*k\n",
        "\n",
        "    pdc = k*(k-1)             # n = 2 까지의 다른 색으로 칠하는 방법은 k * (k-1) 번이다\n",
        "    psc = k                   # n = 2 2까지의 같은 색으로 칠하는 방법은 k번이다\n",
        "    dc = 0                    # 일단 0\n",
        "    sc = 0                    # 이거도 일단 0\n",
        "\n",
        "    for i  in range(2, n):    # 횟수를 정하기 위해서는 그 전에 꺼의 횟수 다 구해야됨..\n",
        "      dc = (pdc + psc) * (k-1)  # 다른 색으로 칠한것은 이전 횟수에 (k-1)을 곱한것과 같다\n",
        "      sc = pdc                # 같은 색으로 칠한것은 이전 횟수의 다른 색으로 칠한것과 같다\n",
        "      pdc = dc                # pdc를 새롭게 정의한다\n",
        "      psc = sc                # psc를 새롭게 정의한다\n",
        "    try: 4/0                  # 오류 억지로 생성\n",
        "    except : return (dc + sc) # 같은색으로만 칠한것과 다른색이랑도 칠한거 더해서 반환\n",
        "\n",
        "# 반복문과 경우의 수\n",
        "# 만약 n=7 이고 k=2 라면 \n",
        "# n=2 일때 dc=2, sc=2 라서 총 경우의 수는 4이다.\n",
        "# n=3 이 되면 dc=4 가 되고 sc=2 다. 총 6이다.\n",
        "# n=4 라면 dc=6 이 되고 sc=4 다. 총 10이다.\n",
        "# n=5 라면 dc=10 이고 sc=6 이다. 총 16이다.\n",
        "# n=6 이면 dc=16 이고 sc=10 이다. 총 26이다.\n",
        "# n=7 이면 dc=26 이고 sc=16이다. 총 42이다.\n",
        "\n",
        "\n",
        "n = int(input(\"n = \"))        # n 받음\n",
        "k = int(input(\"k = \"))        # k 받음\n",
        "print(ccc(n, k))              # 함수 호출"
      ],
      "execution_count": 18,
      "outputs": [
        {
          "output_type": "stream",
          "text": [
            "n = 7\n",
            "k = 2\n",
            "42\n"
          ],
          "name": "stdout"
        }
      ]
    }
  ]
}