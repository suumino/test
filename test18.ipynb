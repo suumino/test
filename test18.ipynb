{
  "nbformat": 4,
  "nbformat_minor": 0,
  "metadata": {
    "colab": {
      "name": "Colaboratory에 오신 것을 환영합니다",
      "provenance": [],
      "collapsed_sections": [],
      "include_colab_link": true
    },
    "kernelspec": {
      "display_name": "Python 3",
      "name": "python3"
    }
  },
  "cells": [
    {
      "cell_type": "markdown",
      "metadata": {
        "id": "view-in-github",
        "colab_type": "text"
      },
      "source": [
        "<a href=\"https://colab.research.google.com/github/suumino/test/blob/main/test18.ipynb\" target=\"_parent\"><img src=\"https://colab.research.google.com/assets/colab-badge.svg\" alt=\"Open In Colab\"/></a>"
      ]
    },
    {
      "cell_type": "code",
      "metadata": {
        "id": "I_ESS98V7dZg",
        "outputId": "2c68fa08-4ce5-4845-e6c2-6c3db5e681c5",
        "colab": {
          "base_uri": "https://localhost:8080/"
        }
      },
      "source": [
        "class ma:                                    # 클래스 생성\n",
        "  def ccc(self, points) -> int:              # 함수 생성\n",
        "    if len(points) == 0:                     # 길이가 0이면\n",
        "      return 0                               # 0 반환\n",
        "    try:                                     # 에러를 검사해라\n",
        "      points.sort(key = lambda a:a[1])       # 크기별로 정렬\n",
        "    except:                                  # 제외해라\n",
        "      print('에러 발생')                     # 에러발생 출력\n",
        "    arrows = 1                               # 변수 생성\n",
        "    curr = points[0]                         # 제일 작은 값을 저장\n",
        "    for balloon in points:                   # 수 중에서\n",
        "      if curr[1] < balloon[0]:               # 만약 수의 값이 그 리스트의 첫번째 값보다 작으면\n",
        "        curr = balloon                       # 그걸 대입하고\n",
        "        arrows += 1                          # 숫자 하나 셈\n",
        "    return arrows                            # 숫자 센거 반환\n",
        "\n",
        "ma = ma()                                    # 클래스 호출\n",
        "n = [[10, 16], [2, 8], [1, 6], [7, 12]]      # 수입력\n",
        "m = [[1, 2], [3, 4], [5, 6], [7, 8]]         # 입력\n",
        "l = [[1, 2], [2, 3], [3, 4], [4, 5]]         # 입력\n",
        "print(ma.ccc(n))                             # 함수 호출\n",
        "print(ma.ccc(m))                             # 호출\n",
        "print(ma.ccc(l))                             # 호출"
      ],
      "execution_count": 5,
      "outputs": [
        {
          "output_type": "stream",
          "text": [
            "2\n",
            "4\n",
            "2\n"
          ],
          "name": "stdout"
        }
      ]
    },
    {
      "cell_type": "code",
      "metadata": {
        "id": "RAaZdvPv7dca"
      },
      "source": [
        ""
      ],
      "execution_count": null,
      "outputs": []
    },
    {
      "cell_type": "code",
      "metadata": {
        "id": "gMUSnc3p7deq"
      },
      "source": [
        ""
      ],
      "execution_count": null,
      "outputs": []
    },
    {
      "cell_type": "code",
      "metadata": {
        "id": "o5-l1GvJ7dhi"
      },
      "source": [
        ""
      ],
      "execution_count": null,
      "outputs": []
    },
    {
      "cell_type": "code",
      "metadata": {
        "id": "qTmmctLU7dkf"
      },
      "source": [
        ""
      ],
      "execution_count": null,
      "outputs": []
    },
    {
      "cell_type": "code",
      "metadata": {
        "id": "vuHfS5fP7dm6"
      },
      "source": [
        ""
      ],
      "execution_count": null,
      "outputs": []
    },
    {
      "cell_type": "code",
      "metadata": {
        "id": "Go9lMsGz7dpg"
      },
      "source": [
        ""
      ],
      "execution_count": null,
      "outputs": []
    },
    {
      "cell_type": "code",
      "metadata": {
        "id": "2D1vbuPX7dsT"
      },
      "source": [
        ""
      ],
      "execution_count": null,
      "outputs": []
    },
    {
      "cell_type": "code",
      "metadata": {
        "id": "1Iwtejee7dve"
      },
      "source": [
        ""
      ],
      "execution_count": null,
      "outputs": []
    },
    {
      "cell_type": "code",
      "metadata": {
        "id": "D2Acs2Tu7dyW"
      },
      "source": [
        ""
      ],
      "execution_count": null,
      "outputs": []
    },
    {
      "cell_type": "code",
      "metadata": {
        "id": "XykWcvVP7d1U"
      },
      "source": [
        ""
      ],
      "execution_count": null,
      "outputs": []
    },
    {
      "cell_type": "code",
      "metadata": {
        "id": "57EXZWOy7d42"
      },
      "source": [
        ""
      ],
      "execution_count": null,
      "outputs": []
    },
    {
      "cell_type": "code",
      "metadata": {
        "id": "NF1J3Rpm7d7W"
      },
      "source": [
        ""
      ],
      "execution_count": null,
      "outputs": []
    },
    {
      "cell_type": "code",
      "metadata": {
        "id": "VwNe_UTm7d-e"
      },
      "source": [
        ""
      ],
      "execution_count": null,
      "outputs": []
    }
  ]
}