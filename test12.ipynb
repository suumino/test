{
  "nbformat": 4,
  "nbformat_minor": 0,
  "metadata": {
    "colab": {
      "name": "Colaboratory에 오신 것을 환영합니다",
      "provenance": [],
      "collapsed_sections": [],
      "include_colab_link": true
    },
    "kernelspec": {
      "display_name": "Python 3",
      "name": "python3"
    }
  },
  "cells": [
    {
      "cell_type": "markdown",
      "metadata": {
        "id": "view-in-github",
        "colab_type": "text"
      },
      "source": [
        "<a href=\"https://colab.research.google.com/github/suumino/test/blob/main/test12.ipynb\" target=\"_parent\"><img src=\"https://colab.research.google.com/assets/colab-badge.svg\" alt=\"Open In Colab\"/></a>"
      ]
    },
    {
      "cell_type": "code",
      "metadata": {
        "id": "743FDeJLxnFr",
        "outputId": "9932842b-9527-40fa-d1f2-c10e7fcd113d",
        "colab": {
          "base_uri": "https://localhost:8080/"
        }
      },
      "source": [
        "class __init__():                # 클라스 생성\n",
        "  def ccc(n):                    # 함수 생성\n",
        "    i = 2                        # 자연수부분을 무시하게끔 함\n",
        "    while True:                  # ture인 동안\n",
        "      try :                      # 해라\n",
        "        if n[i] == '0' or n[i] == '.': # 만약 0이나 .이면\n",
        "          n = n.replace('0', '') # 0을 없애고\n",
        "          n = n.replace('.', '') # .을 없애고\n",
        "          i += 1                 # 다음 index로 넘어간다.\n",
        "        else : i += 1            # 0이나 .이 없으면 그냥 다음으로 넘어간다.\n",
        "      except:                    # 위의 try는 Error가 나오게 된다. \n",
        "        return n                 # 그럼 n을 리턴해라\n",
        "\n",
        "a = ccc(input(\"version1 = \"))    # version1 를 입력해라\n",
        "b = ccc(input(\"version2 = \"))    # version2 를 입력해라\n",
        "\n",
        "if a > b: print(1)               # 만약 1이 크면 1 출력\n",
        "elif a < b: print(-1)            # 2가 크면 -1 출력\n",
        "else : print(0)                  # 같으면 0 출력"
      ],
      "execution_count": 8,
      "outputs": [
        {
          "output_type": "stream",
          "text": [
            "version1 = 7.5.2.4\n",
            "version2 = 7.5.3\n",
            "-1\n"
          ],
          "name": "stdout"
        }
      ]
    },
    {
      "cell_type": "code",
      "metadata": {
        "id": "C9X7t2551l18",
        "outputId": "b5e67a63-80b2-4f21-8587-a4375571b2c2",
        "colab": {
          "base_uri": "https://localhost:8080/"
        }
      },
      "source": [
        ""
      ],
      "execution_count": 10,
      "outputs": [
        {
          "output_type": "stream",
          "text": [
            "version1 = 1.0.1\n",
            "version2 = 1\n",
            "1\n"
          ],
          "name": "stdout"
        }
      ]
    },
    {
      "cell_type": "code",
      "metadata": {
        "id": "f3r8yvNl1o7m",
        "outputId": "3c740e0c-8173-4fd7-d004-7acd9fbb9fe3",
        "colab": {
          "base_uri": "https://localhost:8080/"
        }
      },
      "source": [
        ""
      ],
      "execution_count": 11,
      "outputs": [
        {
          "output_type": "stream",
          "text": [
            "version1 = 1.0\n",
            "version2 = 1.1\n",
            "-1\n"
          ],
          "name": "stdout"
        }
      ]
    },
    {
      "cell_type": "code",
      "metadata": {
        "id": "h236ao6k1rM4",
        "outputId": "869714dc-35a4-46fd-8ebf-0b695e058633",
        "colab": {
          "base_uri": "https://localhost:8080/"
        }
      },
      "source": [
        ""
      ],
      "execution_count": 13,
      "outputs": [
        {
          "output_type": "stream",
          "text": [
            "version1 = 1.0\n",
            "version2 = 1.0.0\n",
            "0\n"
          ],
          "name": "stdout"
        }
      ]
    },
    {
      "cell_type": "code",
      "metadata": {
        "id": "_S5HaTIy1ufZ",
        "outputId": "ab7febaa-5059-4cfe-f8a7-a3e53e49cb49",
        "colab": {
          "base_uri": "https://localhost:8080/"
        }
      },
      "source": [
        ""
      ],
      "execution_count": 14,
      "outputs": [
        {
          "output_type": "stream",
          "text": [
            "version1 = 1.01\n",
            "version2 = 1.001\n",
            "0\n"
          ],
          "name": "stdout"
        }
      ]
    },
    {
      "cell_type": "code",
      "metadata": {
        "id": "EZEresmz10gW"
      },
      "source": [
        ""
      ],
      "execution_count": null,
      "outputs": []
    }
  ]
}