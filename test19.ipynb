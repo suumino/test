{
  "nbformat": 4,
  "nbformat_minor": 0,
  "metadata": {
    "colab": {
      "name": "Colaboratory에 오신 것을 환영합니다",
      "provenance": [],
      "collapsed_sections": [],
      "include_colab_link": true
    },
    "kernelspec": {
      "display_name": "Python 3",
      "name": "python3"
    }
  },
  "cells": [
    {
      "cell_type": "markdown",
      "metadata": {
        "id": "view-in-github",
        "colab_type": "text"
      },
      "source": [
        "<a href=\"https://colab.research.google.com/github/suumino/test/blob/main/test19.ipynb\" target=\"_parent\"><img src=\"https://colab.research.google.com/assets/colab-badge.svg\" alt=\"Open In Colab\"/></a>"
      ]
    },
    {
      "cell_type": "code",
      "metadata": {
        "id": "gG4KH_9tM8r5",
        "outputId": "891cfc29-ee78-45e2-de45-c8751022b7fa",
        "colab": {
          "base_uri": "https://localhost:8080/"
        }
      },
      "source": [
        "class nnn:                                     # 클래스 생성\n",
        "  def ccc(self, n):                            # 함수 생성\n",
        "    for i in range(len(n)-1):                  # 길이 동안\n",
        "      if n[i] < n[i+2] < n[i+1]: return True   # n[i] < n[i+2] < n[i+1] 이면 True 반환\n",
        "      else: return False                       # 아니면 False 반환\n",
        "\n",
        "nnn = nnn()           # 클래스 객체 생성\n",
        "n = [-1, 3, 2, 0]     # 리스트\n",
        "m = [1, 2, 3, 4]      # 리스트\n",
        "l = [1, 3, 2, 4]      # 리스트\n",
        "print(nnn.ccc(n))     # 함수 호출\n",
        "print(nnn.ccc(m))     # 함수 호출\n",
        "print(nnn.ccc(l))     # 함수 호출"
      ],
      "execution_count": 3,
      "outputs": [
        {
          "output_type": "stream",
          "text": [
            "True\n",
            "False\n",
            "True\n"
          ],
          "name": "stdout"
        }
      ]
    },
    {
      "cell_type": "code",
      "metadata": {
        "id": "caUE3e_5XlAT",
        "outputId": "244fa2d7-ac2c-4c7d-82d9-0dc86cb8026b",
        "colab": {
          "base_uri": "https://localhost:8080/"
        }
      },
      "source": [
        "class nnn:                                     # 클래스 생성\n",
        "  def ccc(self, n):                            # 함수 생성\n",
        "    a = False                                  # 먼저 모든 경우 false라고 가정함\n",
        "    try:                                       # 만약 에러가 나면\n",
        "      for i in range(len(n)-2):                # 젤 인덱스가 작은 수 \n",
        "        for j in range(i+1, len(n)-1):         # 중간 인덱스의 수\n",
        "          if n[j] > n[i]:                      # 중간수가 작은수보다 클 때\n",
        "            for k in range(j+1, len(n)):       # 마지막 인덱스의 수\n",
        "              if n[i] < n[k] and n[k] < n[j]:  # 마지막수가 중간수보단 작고 작은수보단 크면 조건 만족\n",
        "                a = True                       # 조건을 만족할 때 Ture\n",
        "    except:                                    # 에러 발생하면\n",
        "      print(\"에러 발생\")                       # 에러 발생 출력\n",
        "    return a                                   # a 반환\n",
        "\n",
        "nnn = nnn()           # 클래스 객체 생성\n",
        "n = [-1, 3, 2, 0]     # 리스트\n",
        "m = [1, 2, 3, 4]      # 리스트\n",
        "l = [1, 3, 2, 4]      # 리스트\n",
        "print(nnn.ccc(n))     # 함수 호출\n",
        "print(nnn.ccc(m))     # 함수 호출\n",
        "print(nnn.ccc(l))     # 함수 호출"
      ],
      "execution_count": 11,
      "outputs": [
        {
          "output_type": "stream",
          "text": [
            "True\n",
            "False\n",
            "True\n"
          ],
          "name": "stdout"
        }
      ]
    },
    {
      "cell_type": "code",
      "metadata": {
        "id": "HSoEfXX-ZUp-"
      },
      "source": [
        ""
      ],
      "execution_count": null,
      "outputs": []
    }
  ]
}