{
  "nbformat": 4,
  "nbformat_minor": 0,
  "metadata": {
    "colab": {
      "name": "Colaboratory에 오신 것을 환영합니다",
      "provenance": [],
      "collapsed_sections": [],
      "include_colab_link": true
    },
    "kernelspec": {
      "display_name": "Python 3",
      "name": "python3"
    }
  },
  "cells": [
    {
      "cell_type": "markdown",
      "metadata": {
        "id": "view-in-github",
        "colab_type": "text"
      },
      "source": [
        "<a href=\"https://colab.research.google.com/github/suumino/test/blob/main/test05.ipynb\" target=\"_parent\"><img src=\"https://colab.research.google.com/assets/colab-badge.svg\" alt=\"Open In Colab\"/></a>"
      ]
    },
    {
      "cell_type": "code",
      "metadata": {
        "id": "DmZxMz_aEFW8",
        "outputId": "fe05a266-7af1-40b2-c621-fd9908c4ce3c",
        "colab": {
          "base_uri": "https://localhost:8080/"
        }
      },
      "source": [
        "def fi():                                                      # 함수 생성\n",
        "  a = 0                                                        # 홀수를 셀 변수\n",
        "  b = 1                                                        # 짝수를 셀 변수\n",
        "  c = []                                                       # 빈 리스트 생성\n",
        "  c.append(a)                                                  # 일단 0을 리스트에 넣는다\n",
        "  for i in range(101):                                         # 몇번 더해야하는지 모르니까 일단 100이하로 \n",
        "    if (a + b) <= 100:                                         # 만약 두 수의 합이 100 이하라면\n",
        "      c.append(a + b)                                          # 리스트에 두 수의 합을 넣는다\n",
        "      if i % 2 == 1:                                           # 만약 홀수라면\n",
        "        a += b                                                 # a 값을 증가시킨다\n",
        "      else:                                                    # 짝수라면\n",
        "        b += a                                                 # b 값을 증가시킨다\n",
        "  print('100 이하의 피보나치수열 :', c)                        # 100 이하의 수열 리스트 출력\n",
        "  print('100 이하의 피보나치수열은 몇개? : %s개!' % len(c))    # 수열 개수 출력\n",
        "\n",
        "fi()                                                           # 함수 호출\n"
      ],
      "execution_count": 43,
      "outputs": [
        {
          "output_type": "stream",
          "text": [
            "100 이하의 피보나치수열 : [0, 1, 1, 2, 3, 5, 8, 13, 21, 34, 55, 89]\n",
            "100 이하의 피보나치수열은 몇개? : 12개!\n"
          ],
          "name": "stdout"
        }
      ]
    },
    {
      "cell_type": "code",
      "metadata": {
        "id": "4oexCQGFEF5H",
        "outputId": "afb04eb4-5f03-4d80-a2cf-eb324d6df121",
        "colab": {
          "base_uri": "https://localhost:8080/"
        }
      },
      "source": [
        " def fi():                                                     # 함수 생성\n",
        "   c = [0, 1]                                                  # 피보나치 수열의 2개만 있다\n",
        "   for i in range(1, 101):                                     # 일단 100번 이하중에서\n",
        "     if (c[-1] + c[-2]) <= 100:                                # 리스트의 맨 끝값 2개 더한 값이 100 이하일때\n",
        "       c.append(c[-1] + c[-2])                                 # 그 수를 리스트 맨끝으로 추가\n",
        "   print('100 이하의 피보나치수열 :', c)                       # 100 이하의 수열 리스트 출력\n",
        "   print('100 이하의 피보나치수열은 몇개? : %s개!' % len(c))   # 수열 개수 출력\n",
        "\n",
        "fi()                                                           # 함수 호출"
      ],
      "execution_count": 44,
      "outputs": [
        {
          "output_type": "stream",
          "text": [
            "100 이하의 피보나치수열 : [0, 1, 1, 2, 3, 5, 8, 13, 21, 34, 55, 89]\n",
            "100 이하의 피보나치수열은 몇개? : 12개!\n"
          ],
          "name": "stdout"
        }
      ]
    },
    {
      "cell_type": "code",
      "metadata": {
        "id": "YlSRp0wQEHp1"
      },
      "source": [
        ""
      ],
      "execution_count": null,
      "outputs": []
    }
  ]
}