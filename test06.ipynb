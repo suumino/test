{
  "nbformat": 4,
  "nbformat_minor": 0,
  "metadata": {
    "colab": {
      "name": "Colaboratory에 오신 것을 환영합니다",
      "provenance": [],
      "collapsed_sections": [],
      "include_colab_link": true
    },
    "kernelspec": {
      "display_name": "Python 3",
      "name": "python3"
    }
  },
  "cells": [
    {
      "cell_type": "markdown",
      "metadata": {
        "id": "view-in-github",
        "colab_type": "text"
      },
      "source": [
        "<a href=\"https://colab.research.google.com/github/suumino/test/blob/main/test06.ipynb\" target=\"_parent\"><img src=\"https://colab.research.google.com/assets/colab-badge.svg\" alt=\"Open In Colab\"/></a>"
      ]
    },
    {
      "cell_type": "code",
      "metadata": {
        "id": "1qHg4273Bf9u",
        "outputId": "4f0c7c25-35c3-4706-e4ee-8da1c4eb284d",
        "colab": {
          "base_uri": "https://localhost:8080/"
        }
      },
      "source": [
        "def dede(): \n",
        "  a = input('Input: ')                              # 문장 받음\n",
        "  st = ''                                           # 문자 세기\n",
        "  t = '1234567890'                                  # 숫자 리스트\n",
        "  q = 'abcdefghijklmnopqrstuvwxyzABCDEFGHIJKLMNOPQRSTUVWXYZ' # 문자리스트\n",
        "  w = ''                                            # 특수문자 세기\n",
        "  inn = ''                                          # 숫자 세기\n",
        "  for i in range(len(a)):                           # 문장 길이동안\n",
        "    if a[i] in q:                                   # 문자리스트 안에 있으면\n",
        "      st += a[i]                                    # 문자로 취급\n",
        "    elif a[i] in t:                                 # 숫자 리스트에 있다면\n",
        "      inn += a[i]                                   # 숫자\n",
        "    else:                                           # 없다면\n",
        "      w += a[i]                                     # 특수문자\n",
        "  print(\"Output:\\t%s\\n\\t%s\\n\\t%s\" %(st, inn, w))    # 출력\n",
        "\n",
        "dede()                                              # 함수 호출"
      ],
      "execution_count": 27,
      "outputs": [
        {
          "output_type": "stream",
          "text": [
            "Input: **Docoding123456789everyday##\n",
            "Output:\tDocodingeveryday\n",
            "\t123456789\n",
            "\t**##\n"
          ],
          "name": "stdout"
        }
      ]
    }
  ]
}