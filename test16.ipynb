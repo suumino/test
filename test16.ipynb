{
  "nbformat": 4,
  "nbformat_minor": 0,
  "metadata": {
    "colab": {
      "name": "Colaboratory에 오신 것을 환영합니다",
      "provenance": [],
      "collapsed_sections": [],
      "include_colab_link": true
    },
    "kernelspec": {
      "display_name": "Python 3",
      "name": "python3"
    }
  },
  "cells": [
    {
      "cell_type": "markdown",
      "metadata": {
        "id": "view-in-github",
        "colab_type": "text"
      },
      "source": [
        "<a href=\"https://colab.research.google.com/github/suumino/test/blob/main/test16.ipynb\" target=\"_parent\"><img src=\"https://colab.research.google.com/assets/colab-badge.svg\" alt=\"Open In Colab\"/></a>"
      ]
    },
    {
      "cell_type": "code",
      "metadata": {
        "id": "12EvgNE3H9B8"
      },
      "source": [
        "다중 스레딩 프로그렘에서 객체 풀은 멀티 스레드에 대한 접근을 제공한다.\n",
        "때문에 한번에 하나의 스레드만 객체풀에 접근할 수 있다. 이건 돈을 조금 낭비할 수 있다.\n",
        "그래서 개체 풀을 사용하는 것이 다중 스레딩의 성능을 향상시킨다고 볼 수 없다."
      ],
      "execution_count": null,
      "outputs": []
    },
    {
      "cell_type": "code",
      "metadata": {
        "id": "JCgFVDOIH8_U"
      },
      "source": [
        "callable과 runnable은 인터페이스가 다른 스레드에 의해 실행되는 클래스이다.\n",
        "하지만 callable은 결과값을 반환하고, runnable은 예외를 throw 할 수 없는 점에서 차이가 있다."
      ],
      "execution_count": null,
      "outputs": []
    },
    {
      "cell_type": "code",
      "metadata": {
        "colab": {
          "base_uri": "https://localhost:8080/"
        },
        "id": "oYQiFhwC_UW-",
        "outputId": "e5d8b437-226e-46b4-f4f1-59146f887e20"
      },
      "source": [
        "class __init():\n",
        "  def commu(secret):                             # 입력값을 secret과 비교하는 함수를 만든다   \n",
        "    guess = list(map(int, input(\"input guess : \")))   # 입력받는다\n",
        "    secret = tuple(secret)                       # secret는 튜플로 바꿀 수 없게 지정한다\n",
        "    se = list(secret)                            # 이건 힌트를 주기 위한 임시 숫자이다\n",
        "\n",
        "    try:                                           # 실행해라\n",
        "      hint = [0, 0]                                # 힌트의 [0]은 위치와 값이 모두 같은거, [1]은 값만 같은거의 개수이다\n",
        "      for i in range(4):                           # 4개 숫자중에\n",
        "        if se[i] == guess[i] :                     # 값과 위치가 모두 같다면\n",
        "          hint[0] += 1                             # [0]에 1을 더해라\n",
        "          se[i]='z'                                # 그리고 중복을 피하기 위해 그 숫자를 z로 만들어라\n",
        "        elif se[i] != guess[i] and guess[i] in se :# 만약 그 숫자가 위치는 다르지만 값이 같다면\n",
        "          hint[1] += 1                             # [1]에 1을 더해라\n",
        "          se[se.index(guess[i])]='z'               # 그리고 그 값을 임시 숫자에서 z로 만들어라\n",
        "      return hint                                  # 힌트를 반환해라\n",
        "    except:                                        # 오류 발생하면\n",
        "      print('error')                               # 에러라고 말해라\n",
        "\n",
        "\n",
        "secret = list(map(int, input(\"input secret : \"))) # scret을 입력받는다 \n",
        "a = commu(secret)                                  # 함수를 호출한다\n",
        "print('{}A{}B'.format(a[0], a[1]))             # 결과를 출력한다."
      ],
      "execution_count": 4,
      "outputs": [
        {
          "output_type": "stream",
          "text": [
            "input secret : 1807\n",
            "input guess : 7810\n",
            "1A3B\n"
          ],
          "name": "stdout"
        }
      ]
    },
    {
      "cell_type": "code",
      "metadata": {
        "id": "jkc1LEttC7dm"
      },
      "source": [
        ""
      ],
      "execution_count": null,
      "outputs": []
    },
    {
      "cell_type": "code",
      "metadata": {
        "id": "z1OFd5I__UZi"
      },
      "source": [
        ""
      ],
      "execution_count": null,
      "outputs": []
    },
    {
      "cell_type": "code",
      "metadata": {
        "id": "VS_SEEFx_Ub4"
      },
      "source": [
        ""
      ],
      "execution_count": null,
      "outputs": []
    }
  ]
}