{
  "nbformat": 4,
  "nbformat_minor": 0,
  "metadata": {
    "colab": {
      "name": "Colaboratory에 오신 것을 환영합니다",
      "provenance": [],
      "collapsed_sections": [],
      "include_colab_link": true
    },
    "kernelspec": {
      "display_name": "Python 3",
      "name": "python3"
    }
  },
  "cells": [
    {
      "cell_type": "markdown",
      "metadata": {
        "id": "view-in-github",
        "colab_type": "text"
      },
      "source": [
        "<a href=\"https://colab.research.google.com/github/suumino/test/blob/main/test10.ipynb\" target=\"_parent\"><img src=\"https://colab.research.google.com/assets/colab-badge.svg\" alt=\"Open In Colab\"/></a>"
      ]
    },
    {
      "cell_type": "code",
      "metadata": {
        "id": "kksz17_unwk6",
        "outputId": "a4c5d423-19cc-46f8-a7fc-db1bb2fa66ba",
        "colab": {
          "base_uri": "https://localhost:8080/"
        }
      },
      "source": [
        "class __init__():                 # 클래스 생성\n",
        "  def ccc(n):                     # 함수 생성\n",
        "    n = sorted(n)                 # 정렬\n",
        "    print(\"Output : Largest number : \", end=\"\")  # 큰 수\n",
        "    for i in range(1, len(n)+1):  # n의 개수동안\n",
        "      print( n[-i], end='')       # 뒤에서부터 뽑기\n",
        "    print()                       # 줄바꿈\n",
        "    print(\"       : Smallest number : \", end=\"\") # 작은 수\n",
        "    try : 4/0                     # 오류 생성\n",
        "    except:                       # 오류가 발생하면\n",
        "      for i in range(0, len(n)):  # n의 개수동안\n",
        "        print(n[i], end='')       # 출력\n",
        "\n",
        "\n",
        "n = list(input(\"input number: \")) # 숫자 입력\n",
        "print(\"Input : arr[] = \", n)      # 받은걸 arr로 보여줌\n",
        "ccc(n)                            # 함수 호출"
      ],
      "execution_count": 19,
      "outputs": [
        {
          "output_type": "stream",
          "text": [
            "input number: 47923\n",
            "Input : arr[] =  ['4', '7', '9', '2', '3']\n",
            "Output : Largest number : 97432\n",
            "       : Smallest number : 23479"
          ],
          "name": "stdout"
        }
      ]
    },
    {
      "cell_type": "code",
      "metadata": {
        "id": "1t-bobgVnxgV",
        "outputId": "08b41340-8cb9-4b4b-e67b-d3525ff5bead",
        "colab": {
          "base_uri": "https://localhost:8080/"
        }
      },
      "source": [
        "\n",
        "class __init__():                  # 클래스 생성\n",
        "  def aaa(m):                      # 함수 생성\n",
        "    m = list(map(int, m))          # 리스트의 요소를 int로 바꿈\n",
        "    z = list(map(int, m))          # 하나 더 만들었음\n",
        "    print(\"Output : Largest number : \", end=\"\")  # 큰 수 출력\n",
        "    for i in range(0, len(m)):     # 리스트의 길이동안\n",
        "      print(max(m), end=\"\")        # 가장 큰 요소 출력\n",
        "      m.remove(max(m))             # 가장 큰 요소 제거\n",
        "    print()                        # 줄바꿈\n",
        "    print(\"       : Smallest number : \", end=\"\")  # 작은 수 출력\n",
        "    try : 4/0                      # 오류 생성\n",
        "    except :                       # 오류가 발생하면\n",
        "      for i in range(0, len(z)):   # 리스트의 길이동안\n",
        "        print(min(z), end=\"\")      # 가장 작은 요소 출력\n",
        "        z.remove(min(z))           # 가장 작은 요소 제거\n",
        "\n",
        "\n",
        "m = list(input(\"input number: \"))  # 숫자 입력\n",
        "print(\"Input : arr[] = \", m)       # arr로 출력\n",
        "aaa(m)                             # 함수 호출"
      ],
      "execution_count": 49,
      "outputs": [
        {
          "output_type": "stream",
          "text": [
            "input number: 86046427\n",
            "Input : arr[] =  ['8', '6', '0', '4', '6', '4', '2', '7']\n",
            "Output : Largest number : 87664420\n",
            "       : Smallest number : 02446678"
          ],
          "name": "stdout"
        }
      ]
    },
    {
      "cell_type": "code",
      "metadata": {
        "id": "mAI3ViNl5_V-"
      },
      "source": [
        ""
      ],
      "execution_count": null,
      "outputs": []
    }
  ]
}