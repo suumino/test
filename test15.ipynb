{
  "nbformat": 4,
  "nbformat_minor": 0,
  "metadata": {
    "colab": {
      "name": "Colaboratory에 오신 것을 환영합니다",
      "provenance": [],
      "collapsed_sections": [],
      "include_colab_link": true
    },
    "kernelspec": {
      "display_name": "Python 3",
      "name": "python3"
    }
  },
  "cells": [
    {
      "cell_type": "markdown",
      "metadata": {
        "id": "view-in-github",
        "colab_type": "text"
      },
      "source": [
        "<a href=\"https://colab.research.google.com/github/suumino/test/blob/main/test15.ipynb\" target=\"_parent\"><img src=\"https://colab.research.google.com/assets/colab-badge.svg\" alt=\"Open In Colab\"/></a>"
      ]
    },
    {
      "cell_type": "code",
      "metadata": {
        "id": "PI5zB7qbPzW9"
      },
      "source": [
        "waiting을 피하려면 주어진 시간동안 스레드를 sleep 상태로 두면 된다. \n",
        "java.lang.Thread의 sleep() 메소드를 호출하여 수행하면 된다.\n",
        "이때 milliseconds가 seep의 인수가 될 수 있다."
      ],
      "execution_count": null,
      "outputs": []
    },
    {
      "cell_type": "code",
      "metadata": {
        "id": "WY-OEnR0PzZL"
      },
      "source": [
        "자바에서 스레드가 synchronized block에 들어가도록 예약된 프로그래밍과 동일한 순서로 리소스가\n",
        "부여되면 리소스가 객체를 기다릴 수 있다. 특정 스레드의 실행이 끝날때까지 기다리게되어 한 스레드가\n",
        "CPU를 독점하게 되면 stread starvation이라고 한다."
      ],
      "execution_count": null,
      "outputs": []
    },
    {
      "cell_type": "code",
      "metadata": {
        "id": "Bvqipcf6PzcU",
        "outputId": "0ae8e5ea-fe75-43ef-dbd1-d2b6f6cd830c",
        "colab": {
          "base_uri": "https://localhost:8080/"
        }
      },
      "source": [
        "\n",
        "c=[] # 결과 출력을 위한 리스트 c\n",
        "if len(a)>=len(b): # 입력받은 두 리스트의 길이를 비교하여 a쪽이 크거나 같다면\n",
        "  a1,a2=a,b # a1을 a로, a2를 b로 한다\n",
        "else: # b쪽이 크면\n",
        "  a1,a2=b,a # a1을 b로, a2를 a로 한다\n",
        "for i in range(len(a2)): # 짧은 a2 길이만큼 반복되는 for문\n",
        "  c.append(a[i]) # 리스트 c에 a의 i번째 요소 추가\n",
        "  c.append(b[i]) # 리스트 c에 b의 i번째 요소 추가\n",
        "for i in range(len(a1)-len(a2)): # 이후 길이가 긴 a1 요소를 추가하는 for문\n",
        "  c.append(a1[len(a2)+i]) # 리스트 c에 a1의 (a2 길이)+i번째 요소 추가\n",
        "print(c) # 최종 결과 출력\n",
        "# class 구현보다 입력/출력 구현에만 신경씀\n",
        "\n",
        "a=list(map(int,input().split())) # 첫번째 리스트 입력(공백 포함/분류)\n",
        "b=list(map(int,input().split())) # 두번째 리스트 입력(공백 포함/분류)"
      ],
      "execution_count": 3,
      "outputs": [
        {
          "output_type": "stream",
          "text": [
            "5 6 7 8\n",
            "1 2 3 4\n",
            "[5, 1, 6, 2, 7, 3, 8, 4]\n"
          ],
          "name": "stdout"
        }
      ]
    },
    {
      "cell_type": "code",
      "metadata": {
        "id": "ciJJWO2XX59z",
        "outputId": "1a5305e4-b622-43dd-fa11-cb9970a37cd4",
        "colab": {
          "base_uri": "https://localhost:8080/"
        }
      },
      "source": [
        "class __init__():      # 클라스 생성\n",
        "  def ccc(a, b):       # 함수 생성\n",
        "    c = []             # 빈 리스트 생성\n",
        "    d = 0              # a 길이 저장\n",
        "    if len(a) > len(b): a, b = b, a  # 더 짧은걸 a 로\n",
        "    for i in range(len(a)):   # a 길이동안\n",
        "      c.append(a[i])          # a 요소 c에 넣음\n",
        "      c.append(b[i])          # b 요소 c에 넣음\n",
        "      d = i                   # d 에 i 저장\n",
        "\n",
        "    try :                     # 오류 생성\n",
        "      while len(b) > d:       # b 의 남은 요소들을\n",
        "        c.append(b[d+1])      # c 에 넣음\n",
        "        d += 1                # d 에 1 넣음\n",
        "    except:                   # 오류가 있다면\n",
        "      return c                # c 반환\n",
        "\n",
        "a = list(map(int,input('v1 = ').split())) # a 입력받음\n",
        "b = list(map(int,input('v2 = ').split())) # b 입력받음\n",
        "print(ccc(a, b))            # 출력"
      ],
      "execution_count": 28,
      "outputs": [
        {
          "output_type": "stream",
          "text": [
            "v1 = 1 2\n",
            "v2 = 3 4 5\n",
            "[1, 3, 2, 4, 5]\n"
          ],
          "name": "stdout"
        }
      ]
    },
    {
      "cell_type": "code",
      "metadata": {
        "id": "6vWsw6xkPze9",
        "outputId": "cbbce2b3-9777-43da-b363-a26f88887702",
        "colab": {
          "base_uri": "https://localhost:8080/",
          "height": 258
        }
      },
      "source": [
        "1 2\n",
        "class ZigazagIterator(object):\n",
        "  def __init__(self, v1, v2):\n",
        "    self.data = [(len(v), iter(v)) for v in (v1, v2) if v]\n",
        "  \n",
        "  def next(self):\n",
        "    len, iter = self.data.pop(0)\n",
        "    if len > 1:\n",
        "      self.data.append((len-1, iter))\n",
        "    return next(iter)\n",
        "  \n",
        "  def hasNext(self):\n",
        "    return bool(self.data)\n",
        "\n",
        "a=list(map(int,input().split())) # 첫번째 리스트 입력(공백 포함/분류)\n",
        "b=list(map(int,input().split())) # 두번째 리스트 입력(공백 포함/분류)\n",
        "\n",
        "ZigazagIterator(a, b)\n",
        "next(a, b)\n",
        "hasnext(a, b)"
      ],
      "execution_count": 7,
      "outputs": [
        {
          "output_type": "stream",
          "text": [
            "1 2\n",
            "3 4 5\n"
          ],
          "name": "stdout"
        },
        {
          "output_type": "error",
          "ename": "TypeError",
          "evalue": "ignored",
          "traceback": [
            "\u001b[0;31m---------------------------------------------------------------------------\u001b[0m",
            "\u001b[0;31mTypeError\u001b[0m                                 Traceback (most recent call last)",
            "\u001b[0;32m<ipython-input-7-609d92b4de1f>\u001b[0m in \u001b[0;36m<module>\u001b[0;34m()\u001b[0m\n\u001b[1;32m     16\u001b[0m \u001b[0;34m\u001b[0m\u001b[0m\n\u001b[1;32m     17\u001b[0m \u001b[0mZigazagIterator\u001b[0m\u001b[0;34m(\u001b[0m\u001b[0ma\u001b[0m\u001b[0;34m,\u001b[0m \u001b[0mb\u001b[0m\u001b[0;34m)\u001b[0m\u001b[0;34m\u001b[0m\u001b[0;34m\u001b[0m\u001b[0m\n\u001b[0;32m---> 18\u001b[0;31m \u001b[0mnext\u001b[0m\u001b[0;34m(\u001b[0m\u001b[0ma\u001b[0m\u001b[0;34m,\u001b[0m \u001b[0mb\u001b[0m\u001b[0;34m)\u001b[0m\u001b[0;34m\u001b[0m\u001b[0;34m\u001b[0m\u001b[0m\n\u001b[0m\u001b[1;32m     19\u001b[0m \u001b[0mhasnext\u001b[0m\u001b[0;34m(\u001b[0m\u001b[0ma\u001b[0m\u001b[0;34m,\u001b[0m \u001b[0mb\u001b[0m\u001b[0;34m)\u001b[0m\u001b[0;34m\u001b[0m\u001b[0;34m\u001b[0m\u001b[0m\n",
            "\u001b[0;31mTypeError\u001b[0m: 'list' object is not an iterator"
          ]
        }
      ]
    },
    {
      "cell_type": "code",
      "metadata": {
        "id": "_Jb2l1JePzhr"
      },
      "source": [
        ""
      ],
      "execution_count": null,
      "outputs": []
    },
    {
      "cell_type": "code",
      "metadata": {
        "id": "DesIoFqiPzkj"
      },
      "source": [
        ""
      ],
      "execution_count": null,
      "outputs": []
    },
    {
      "cell_type": "code",
      "metadata": {
        "id": "hRWsldIdPzoD"
      },
      "source": [
        ""
      ],
      "execution_count": null,
      "outputs": []
    }
  ]
}